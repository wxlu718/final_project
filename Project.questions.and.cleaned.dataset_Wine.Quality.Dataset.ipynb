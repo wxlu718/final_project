{
 "cells": [
  {
   "cell_type": "markdown",
   "metadata": {},
   "source": [
    "Final Project\n",
    "=============\n",
    "\n",
    "\n",
    "Dataset: http://mlr.cs.umass.edu/ml/datasets/Wine+Quality\n",
    "Data Source: http://mlr.cs.umass.edu/ml/datasets/Wine+Quality \n",
    "Dataset Description: http://mlr.cs.umass.edu/ml/machine-learning-databases/wine-quality/winequality.names \n"
   ]
  },
  {
   "cell_type": "markdown",
   "metadata": {},
   "source": [
    "Project Questions\n",
    "================\n",
    "\n",
    "** What is the question you hope to answer? **\n",
    "\n",
    "- Wine making is considered an art. But is there a formula for a quality wine?\n",
    "- What basic properties are the formula for a good wine?\n",
    "- Do white wine and red wine share the same formula?\n",
    "\n",
    "\n",
    "** What data are you planning to use to answer that question? **\n",
    "\n",
    "- I'll be using both datasets. Conducting data analysis and apply ML models to each of the dataset.\n",
    "- Keep all 12 features.\n",
    "\n",
    "\n",
    "\n",
    "** What do you know about the data so far? **\n",
    "\n",
    "- The two datasets are related to red and white variants of the Portuguese \"Vinho Verde\" wine. The inputs include objective tests (e.g. PH values) and the output is based on sensory data (median of at least 3 evaluations made by wine experts). Each expert graded the wine quality between 0 (very bad) and 10 (very excellent).\n",
    "\n",
    "- The two original datasets are of different sizes (1599 vs 4898).\n",
    "\n",
    "- For both original datasets, all columns consist of numnerical values. \n",
    "\n",
    "- No missing values for both original datasets.\n",
    "\n",
    "- The combined master dataset has a sample size of 6497. The number is sufficient to support any ML model. \n",
    "\n",
    "** Why did you choose this topic? **\n",
    "\n",
    "- Personal interest in wine. I'm trying to explore wine tasting as a hobby. "
   ]
  },
  {
   "cell_type": "markdown",
   "metadata": {},
   "source": [
    "**STEP 1. Clean and analyze the dataset**"
   ]
  },
  {
   "cell_type": "code",
   "execution_count": null,
   "metadata": {
    "collapsed": false
   },
   "outputs": [],
   "source": [
    "import pandas as pd\n",
    "import numpy as np\n",
    "import matplotlib.pyplot as plt\n",
    "#import seaborn as sb\n",
    "\n",
    "%matplotlib inline"
   ]
  },
  {
   "cell_type": "markdown",
   "metadata": {},
   "source": [
    "Take a peek at the data"
   ]
  },
  {
   "cell_type": "code",
   "execution_count": null,
   "metadata": {
    "collapsed": false
   },
   "outputs": [],
   "source": [
    "!head -10 'winequality-white.csv'"
   ]
  },
  {
   "cell_type": "code",
   "execution_count": null,
   "metadata": {
    "collapsed": false
   },
   "outputs": [],
   "source": [
    "!head -10 'winequality-red.csv'"
   ]
  },
  {
   "cell_type": "code",
   "execution_count": null,
   "metadata": {
    "collapsed": false
   },
   "outputs": [],
   "source": [
    "#Load Data\n",
    "\n",
    "#names=['fx_acd','vol_acd','cir_acd','res_sgr','chlor','fr_SO2','tl_SO2','den','pH','sulph','alchl','quality']\n",
    "\n",
    "data_white = pd.read_csv('winequality-white.csv',sep=';',header=0)\n",
    "data_red = pd.read_csv('winequality-red.csv',sep=';',header=0)"
   ]
  },
  {
   "cell_type": "code",
   "execution_count": null,
   "metadata": {
    "collapsed": false
   },
   "outputs": [],
   "source": [
    "data_white.head()"
   ]
  },
  {
   "cell_type": "code",
   "execution_count": null,
   "metadata": {
    "collapsed": false
   },
   "outputs": [],
   "source": [
    "data_white.mean(axis=0)"
   ]
  },
  {
   "cell_type": "code",
   "execution_count": null,
   "metadata": {
    "collapsed": false
   },
   "outputs": [],
   "source": [
    "data_red.head()"
   ]
  },
  {
   "cell_type": "code",
   "execution_count": null,
   "metadata": {
    "collapsed": false
   },
   "outputs": [],
   "source": [
    "data_red.mean(axis=0)"
   ]
  },
  {
   "cell_type": "code",
   "execution_count": null,
   "metadata": {
    "collapsed": false
   },
   "outputs": [],
   "source": [
    "data_red.shape"
   ]
  },
  {
   "cell_type": "code",
   "execution_count": null,
   "metadata": {
    "collapsed": false
   },
   "outputs": [],
   "source": [
    "data_white.shape"
   ]
  },
  {
   "cell_type": "code",
   "execution_count": null,
   "metadata": {
    "collapsed": false
   },
   "outputs": [],
   "source": [
    "data_red.info()"
   ]
  },
  {
   "cell_type": "code",
   "execution_count": null,
   "metadata": {
    "collapsed": false
   },
   "outputs": [],
   "source": [
    "data_white.info()"
   ]
  },
  {
   "cell_type": "code",
   "execution_count": null,
   "metadata": {
    "collapsed": false
   },
   "outputs": [],
   "source": [
    "data_red.isnull().any()"
   ]
  },
  {
   "cell_type": "code",
   "execution_count": null,
   "metadata": {
    "collapsed": false
   },
   "outputs": [],
   "source": [
    "data_white.isnull().any()"
   ]
  },
  {
   "cell_type": "markdown",
   "metadata": {},
   "source": [
    "I notice the gap in sample size between two datasets. One (red wine) with 1599 observations, one (white wine) with 4898. Since 1599 is quite a large sample size, I would not consider having 3X the size of one sample will have a material impact on the modelling results."
   ]
  },
  {
   "cell_type": "code",
   "execution_count": null,
   "metadata": {
    "collapsed": false
   },
   "outputs": [],
   "source": [
    "data_white.describe()"
   ]
  },
  {
   "cell_type": "code",
   "execution_count": null,
   "metadata": {
    "collapsed": false
   },
   "outputs": [],
   "source": [
    "data_red.describe()"
   ]
  },
  {
   "cell_type": "markdown",
   "metadata": {},
   "source": [
    "**Looking into the features:**\n",
    "\n",
    "There are no missing values. What about outliers? I did some research into the attributes and the way they contribute to the complexity of wines and have the following findings:\n",
    "\n",
    "[References: http://waterhouse.ucdavis.edu/whats-in-wine;\n",
    "             http://winefolly.com/; http://winobrothers.com/2011/10/11/sulfur-dioxide-so2-in-wine/]\n",
    "\n",
    "\n",
    "\n",
    "The expected level for some of the physiochemical attributes are:\n",
    " \n",
    "1,500 - 14,500 mg/L tartaric acid;\n",
    "0 - 500 mg/L citric acid;\n",
    "0 - 3 g/L volatile acid;\n",
    "10 - 350 mg/L sulphates;\n",
    "\n",
    "However I find these range levels are still vague in terms of determining outliers. Reasons are: \n",
    "\n",
    "1) \"The predominant fixed acids found in wines are tartaric, malic, citric, and succinic.\" Looks like there are some overlapping between fixed acidity and citric acid here. Same overlapping effect occurs between free sulfur dioxide and total sulfur dioxide.\n",
    "\n",
    "2) Wine making is an art. There are no hard line on certain physiochemical levels except for country-specific wine making laws, whose effect is eliminated here since all the wine samples were taken from Portugal. That is to say, each component's level range really depends on enologists' preferences. \n",
    "\n",
    "\n",
    "\n",
    "\n",
    "What to do next:\n",
    "\n",
    "1) Drop overlapping features, particularly, citric acid and free sulfur dioxide.\n",
    "\n",
    "2) Detect the noises in the datasets from a visual perspective.\n",
    "\n",
    "3) Reassign values to 'quality' column, i.e. make it a binary feature, good quality (score>5) vs bad quality (score <=5).\n"
   ]
  },
  {
   "cell_type": "code",
   "execution_count": null,
   "metadata": {
    "collapsed": true
   },
   "outputs": [],
   "source": [
    "#Create a function that differentiate good quality wine (with value 1) from bad quality wine (with value 0)\n",
    "\n",
    "def numeric_to_binary(x):\n",
    "    if x >5:\n",
    "        return 1\n",
    "    else:\n",
    "        return 0\n"
   ]
  },
  {
   "cell_type": "code",
   "execution_count": null,
   "metadata": {
    "collapsed": false
   },
   "outputs": [],
   "source": [
    "data_white = data_white.drop(['citric acid','free sulfur dioxide'],axis=1)"
   ]
  },
  {
   "cell_type": "code",
   "execution_count": null,
   "metadata": {
    "collapsed": false
   },
   "outputs": [],
   "source": [
    "data_white['bin_quality'] = data_white['quality'].apply(numeric_to_binary)\n",
    "#data_white.drop(['quality'],axis=1)\n",
    "\n",
    "data_white.head()"
   ]
  },
  {
   "cell_type": "code",
   "execution_count": null,
   "metadata": {
    "collapsed": true
   },
   "outputs": [],
   "source": [
    "data_red = data_red.drop(['citric acid','free sulfur dioxide'],axis=1)"
   ]
  },
  {
   "cell_type": "code",
   "execution_count": null,
   "metadata": {
    "collapsed": false
   },
   "outputs": [],
   "source": [
    "data_red['bin_quality'] = data_red['quality'].apply(numeric_to_binary)\n",
    "#data_white.drop(['quality'],axis=1)\n",
    "\n",
    "data_red.head()"
   ]
  },
  {
   "cell_type": "code",
   "execution_count": null,
   "metadata": {
    "collapsed": false
   },
   "outputs": [],
   "source": [
    "white = pd.DataFrame(data_white.mean(axis=0))\n",
    "\n",
    "white.columns=['White']\n",
    "\n",
    "white"
   ]
  },
  {
   "cell_type": "code",
   "execution_count": null,
   "metadata": {
    "collapsed": false
   },
   "outputs": [],
   "source": [
    "red=pd.DataFrame(data_red.mean(axis=0))\n",
    "\n",
    "red.columns=['Red']\n",
    "\n",
    "red"
   ]
  },
  {
   "cell_type": "code",
   "execution_count": null,
   "metadata": {
    "collapsed": false
   },
   "outputs": [],
   "source": [
    "wr=pd.concat([white, red], axis=1)\n",
    "\n",
    "wr"
   ]
  },
  {
   "cell_type": "code",
   "execution_count": null,
   "metadata": {
    "collapsed": false
   },
   "outputs": [],
   "source": [
    "white_red = pd.DataFrame(wr, columns=['White','Red'])\n",
    "\n",
    "white_red.plot(kind='bar',figsize=(12,8));"
   ]
  },
  {
   "cell_type": "code",
   "execution_count": null,
   "metadata": {
    "collapsed": true
   },
   "outputs": [],
   "source": []
  },
  {
   "cell_type": "code",
   "execution_count": null,
   "metadata": {
    "collapsed": false
   },
   "outputs": [],
   "source": [
    "#The features are on different measuring scales, e.g. g/L, mg/L. It needs to be scaled first. \n",
    "\n",
    "from sklearn.preprocessing import StandardScaler\n",
    "\n",
    "red_q = data_red['bin_quality']\n",
    "red_X = data_red.drop(['quality','bin_quality'], axis=1)\n",
    "\n",
    "white_q = data_white['bin_quality']\n",
    "white_X = data_white.drop(['quality','bin_quality'], axis=1)\n",
    "\n",
    "stdsc = StandardScaler()\n",
    "\n",
    "red_X_std = stdsc.fit_transform(red_X)\n",
    "white_X_std = stdsc.fit_transform(white_X)\n",
    "\n",
    "#red_q_std = stdsc.fit_transform(red_X)\n",
    "#white_q_std = stdsc.fit_transform(white_X)"
   ]
  },
  {
   "cell_type": "code",
   "execution_count": null,
   "metadata": {
    "collapsed": false
   },
   "outputs": [],
   "source": [
    "white_X_std = pd.DataFrame(white_X_std,columns = white_X.columns)\n",
    "red_X_std = pd.DataFrame(red_X_std,columns = red_X.columns)"
   ]
  },
  {
   "cell_type": "code",
   "execution_count": null,
   "metadata": {
    "collapsed": false
   },
   "outputs": [],
   "source": [
    "a= white_X_std.plot(kind='box',showmeans=True,figsize=(20,10));\n",
    "\n",
    "plt.title('White Wine Attributes Analysis')\n",
    "\n",
    "plt.show()\n"
   ]
  },
  {
   "cell_type": "code",
   "execution_count": null,
   "metadata": {
    "collapsed": false
   },
   "outputs": [],
   "source": [
    "red_X_std.plot(kind='box',showmeans=True,figsize=(20,10));\n",
    "\n",
    "plt.title('Red Wine Attributes Analysis')\n",
    "\n",
    "plt.show()"
   ]
  },
  {
   "cell_type": "markdown",
   "metadata": {},
   "source": [
    "Based on the above two box plots, there are some noticeable outlying values among features. Again, winemaking process totally depends on what enologists tend to do. Actually I believe it is this wide range of The hard line for 'outliers' is not that 'hard'. I'm not gonna drop these 'outliers' off the dataset but they surely will contribute to the source of errors when applying regression modelling. "
   ]
  },
  {
   "cell_type": "code",
   "execution_count": null,
   "metadata": {
    "collapsed": false
   },
   "outputs": [],
   "source": [
    "#Take a look at the feature correlations\n",
    "\n",
    "red_X_std.corr()"
   ]
  },
  {
   "cell_type": "code",
   "execution_count": null,
   "metadata": {
    "collapsed": false
   },
   "outputs": [],
   "source": [
    "white_X_std.corr()"
   ]
  },
  {
   "cell_type": "code",
   "execution_count": null,
   "metadata": {
    "collapsed": false
   },
   "outputs": [],
   "source": [
    "plt.subplot(121)\n",
    "plt.title('Red Wine Dataset Correlation')\n",
    "heatmap = plt.pcolor(red_X_std.corr())\n",
    "\n",
    "plt.subplot(122)\n",
    "plt.title('White Wine Dataset Correlation')\n",
    "heatmap = plt.pcolor(white_X_std.corr())\n"
   ]
  },
  {
   "cell_type": "markdown",
   "metadata": {},
   "source": [
    "By looking at the correlations among features, \n",
    "\n",
    " - In red wine dataset, fixed acidity is correlated to a certain degree with density.\n",
    " - In white wine dataset, there is strong correlation between residual sugar and density."
   ]
  },
  {
   "cell_type": "markdown",
   "metadata": {},
   "source": [
    "**STEP 2. Apply Supervised Learning Models**"
   ]
  },
  {
   "cell_type": "code",
   "execution_count": null,
   "metadata": {
    "collapsed": false
   },
   "outputs": [],
   "source": [
    "#Split the data into training and test sets\n",
    "\n",
    "from sklearn.cross_validation import train_test_split\n",
    "\n",
    "\n",
    "X_train_r, X_test_r, y_train_r, y_test_r = train_test_split(red_X_std, red_q, \n",
    "                                                    test_size=0.2, random_state=7)\n",
    "X_train_w, X_test_w, y_train_w, y_test_w = train_test_split(white_X_std, white_q, \n",
    "                                                    test_size=0.2, random_state=7)"
   ]
  },
  {
   "cell_type": "code",
   "execution_count": null,
   "metadata": {
    "collapsed": true
   },
   "outputs": [],
   "source": [
    "from sklearn.dummy import DummyClassifier\n",
    "\n",
    "dc = DummyClassifier(strategy='uniform', random_state=None, constant=None)"
   ]
  },
  {
   "cell_type": "code",
   "execution_count": null,
   "metadata": {
    "collapsed": false
   },
   "outputs": [],
   "source": [
    "from sklearn.cross_validation import cross_val_score\n",
    "\n",
    "dc.fit(X_train_r, y_train_r)\n",
    "dc.fit(X_train_w, y_train_w)"
   ]
  },
  {
   "cell_type": "code",
   "execution_count": null,
   "metadata": {
    "collapsed": false
   },
   "outputs": [],
   "source": [
    "from sklearn.metrics import classification_report\n",
    "\n",
    "print 'Classification Report for Red Wine'\n",
    "print ' '\n",
    "\n",
    "print classification_report(dc.predict(X_test_r), y_test_r)\n"
   ]
  },
  {
   "cell_type": "code",
   "execution_count": null,
   "metadata": {
    "collapsed": true
   },
   "outputs": [],
   "source": []
  },
  {
   "cell_type": "code",
   "execution_count": null,
   "metadata": {
    "collapsed": false
   },
   "outputs": [],
   "source": [
    "print ' '\n",
    "\n",
    "print classification_report(dc.predict(X_test_w), y_test_w)"
   ]
  },
  {
   "cell_type": "code",
   "execution_count": null,
   "metadata": {
    "collapsed": true
   },
   "outputs": [],
   "source": [
    "#from sklearn.metrics import precision_recall_fscore_support\n",
    "#from sklearn.metrics import accuracy_score\n",
    "\n",
    "#metrics_r = list(precision_recall_fscore_support(dc.predict(X_test_r), y_test_r, average='binary'))[:3]\n",
    "#metrics_r.append(accuracy_score(dc.predict(X_test_r), y_test_r))"
   ]
  },
  {
   "cell_type": "code",
   "execution_count": null,
   "metadata": {
    "collapsed": true
   },
   "outputs": [],
   "source": [
    "#metrics_w = list(precision_recall_fscore_support(dc.predict(X_test_w), y_test_w, average='binary'))[:3]\n",
    "#metrics_w.append(accuracy_score(dc.predict(X_test_w), y_test_w))"
   ]
  },
  {
   "cell_type": "code",
   "execution_count": null,
   "metadata": {
    "collapsed": false
   },
   "outputs": [],
   "source": [
    "#Red Wine Dataset\n",
    "\n",
    "t_r = %timeit -o dc.fit(X_train_r, y_train_r)"
   ]
  },
  {
   "cell_type": "code",
   "execution_count": null,
   "metadata": {
    "collapsed": false
   },
   "outputs": [],
   "source": [
    "#White Wine Dataset\n",
    "\n",
    "t_w = %timeit -o dc.fit(X_train_w, y_train_w)"
   ]
  },
  {
   "cell_type": "code",
   "execution_count": null,
   "metadata": {
    "collapsed": false
   },
   "outputs": [],
   "source": [
    "#metrics_r.append(t_r.best)\n",
    "#metrics_w.append(t_w.best)"
   ]
  },
  {
   "cell_type": "code",
   "execution_count": null,
   "metadata": {
    "collapsed": false
   },
   "outputs": [],
   "source": [
    "#pd.set_option('display.float_format', lambda x: '%.6f' % x)\n",
    "\n",
    "#model_stats_r = pd.DataFrame(metrics_r,columns=['dummy_r'],index=['precision','recall','fscore','accuracy','time'])\n",
    "#model_stats_r"
   ]
  },
  {
   "cell_type": "code",
   "execution_count": null,
   "metadata": {
    "collapsed": false
   },
   "outputs": [],
   "source": [
    "#model_stats_w = pd.DataFrame(metrics_w,columns=['dummy_w'],index=['precision','recall','fscore','accuracy','time'])\n",
    "#model_stats_w"
   ]
  },
  {
   "cell_type": "code",
   "execution_count": null,
   "metadata": {
    "collapsed": false
   },
   "outputs": [],
   "source": [
    "#pd.concat([model_stats_r, model_stats_w], axis=1)"
   ]
  },
  {
   "cell_type": "code",
   "execution_count": null,
   "metadata": {
    "collapsed": false
   },
   "outputs": [],
   "source": [
    "benchmark1=cross_val_score(dc,X_train_r, y_train_r, cv=20)\n",
    "\n",
    "benchmark1"
   ]
  },
  {
   "cell_type": "code",
   "execution_count": null,
   "metadata": {
    "collapsed": false
   },
   "outputs": [],
   "source": [
    "benchmark1.mean()"
   ]
  },
  {
   "cell_type": "code",
   "execution_count": null,
   "metadata": {
    "collapsed": false
   },
   "outputs": [],
   "source": [
    "benchmark2=cross_val_score(dc,X_train_w, y_train_w, cv=20)\n",
    "\n",
    "benchmark2"
   ]
  },
  {
   "cell_type": "code",
   "execution_count": null,
   "metadata": {
    "collapsed": false
   },
   "outputs": [],
   "source": [
    "benchmark2.mean()"
   ]
  },
  {
   "cell_type": "markdown",
   "metadata": {},
   "source": [
    "**Benchmark**\n",
    "\n",
    "Red Wine: 50.8% accuracy, 58% F1 score.\n",
    "\n",
    "White Wine: 50.2% accuracy, 47% F1 score."
   ]
  },
  {
   "cell_type": "markdown",
   "metadata": {},
   "source": [
    "Apply Logistic Regression with L2 - Ridge Regularization"
   ]
  },
  {
   "cell_type": "code",
   "execution_count": null,
   "metadata": {
    "collapsed": true
   },
   "outputs": [],
   "source": [
    "from sklearn.cross_validation import ShuffleSplit\n",
    "\n",
    "cv1 = ShuffleSplit(X_train_r.shape[0], n_iter=10, test_size=0.2, random_state=0)\n",
    "cv2 = ShuffleSplit(X_train_w.shape[0], n_iter=10, test_size=0.2, random_state=0)"
   ]
  },
  {
   "cell_type": "code",
   "execution_count": null,
   "metadata": {
    "collapsed": true
   },
   "outputs": [],
   "source": [
    "from sklearn.linear_model import LogisticRegression\n",
    "\n",
    "lr1 = LogisticRegression()\n",
    "lr2 = LogisticRegression()\n",
    "\n",
    "parameters_lr = {'penalty': ['l2'], 'C':np.linspace(0.1,2.0,50)}\n",
    "\n"
   ]
  },
  {
   "cell_type": "code",
   "execution_count": null,
   "metadata": {
    "collapsed": false
   },
   "outputs": [],
   "source": [
    "from sklearn.grid_search import GridSearchCV\n",
    "\n",
    "clf1 = GridSearchCV(lr1, parameters_lr, cv=cv1)\n",
    "clf2 = GridSearchCV(lr2, parameters_lr, cv=cv2)\n",
    "\n",
    "clf1.fit(X_train_r, y_train_r)\n",
    "clf2.fit(X_train_w, y_train_w)"
   ]
  },
  {
   "cell_type": "code",
   "execution_count": null,
   "metadata": {
    "collapsed": false
   },
   "outputs": [],
   "source": [
    "clf1.best_params_"
   ]
  },
  {
   "cell_type": "code",
   "execution_count": null,
   "metadata": {
    "collapsed": false
   },
   "outputs": [],
   "source": [
    "clf2.best_params_"
   ]
  },
  {
   "cell_type": "code",
   "execution_count": null,
   "metadata": {
    "collapsed": true
   },
   "outputs": [],
   "source": [
    "best_lr1 = clf1.best_estimator_\n",
    "best_lr2 = clf2.best_estimator_"
   ]
  },
  {
   "cell_type": "code",
   "execution_count": null,
   "metadata": {
    "collapsed": false
   },
   "outputs": [],
   "source": [
    "print classification_report(best_lr1.predict(X_test_r), y_test_r)\n",
    "score1 = cross_val_score(best_lr1, X_train_r, y_train_r, cv=cv1)\n",
    "print('CV score {}, Average score {}'.format(score1, score1.mean()))\n",
    "best_lr1.score(X_test_r, y_test_r)"
   ]
  },
  {
   "cell_type": "markdown",
   "metadata": {},
   "source": [
    "Logistic Regression model for Red Wine achieve 75.3% accuracy and 75% in F1 score, beating the benchmark."
   ]
  },
  {
   "cell_type": "code",
   "execution_count": null,
   "metadata": {
    "collapsed": false
   },
   "outputs": [],
   "source": [
    "print classification_report(best_lr2.predict(X_test_w), y_test_w)\n",
    "score2 = cross_val_score(best_lr2, X_train_w, y_train_w, cv=cv2)\n",
    "print('CV score {}, Average score {}'.format(score2, score2.mean()))\n",
    "best_lr2.score(X_test_w, y_test_w)"
   ]
  },
  {
   "cell_type": "markdown",
   "metadata": {},
   "source": [
    "Logistic Regression model for White Wine achieve 76.8% accuracy and 78% in F1 score, beating the benchmark."
   ]
  },
  {
   "cell_type": "code",
   "execution_count": null,
   "metadata": {
    "collapsed": false
   },
   "outputs": [],
   "source": [
    "from sk_modelcurves.learning_curve import draw_learning_curve\n",
    "\n",
    "print 'Logistic Regression Learning Curve for Red Wine'\n",
    "\n",
    "draw_learning_curve(best_lr1,X_train_r, y_train_r, cv=cv1);"
   ]
  },
  {
   "cell_type": "markdown",
   "metadata": {},
   "source": [
    "The Logistic Regression model shows little variance; accuracy improves with more training data but still not to a satisfactory level."
   ]
  },
  {
   "cell_type": "code",
   "execution_count": null,
   "metadata": {
    "collapsed": false
   },
   "outputs": [],
   "source": [
    "print 'Logistic Regression Learning Curve for White Wine'\n",
    "\n",
    "draw_learning_curve(best_lr2,X_train_w, y_train_w, cv=cv2);"
   ]
  },
  {
   "cell_type": "markdown",
   "metadata": {},
   "source": [
    "The Logistic Regression model shows some variance and high bias, and not score high on accuracy. "
   ]
  },
  {
   "cell_type": "code",
   "execution_count": null,
   "metadata": {
    "collapsed": false
   },
   "outputs": [],
   "source": [
    "#Coefficients for Quality Red Wine Formula\n",
    "\n",
    "pd.DataFrame({'features': red_X.columns, 'coefs': best_lr1.coef_[0]}).sort_values(by='coefs',ascending=False)"
   ]
  },
  {
   "cell_type": "markdown",
   "metadata": {},
   "source": [
    "For red wine, alcohol seems to be the biggest contributor to the quality, with sulphates, total sulfur dioxide and volatile acidity as co-factors, while the effects from sulphates and total sulfur dioxide might offset each other."
   ]
  },
  {
   "cell_type": "code",
   "execution_count": null,
   "metadata": {
    "collapsed": false
   },
   "outputs": [],
   "source": [
    "#Coefficients for Quality White Wine Formula\n",
    "\n",
    "pd.DataFrame({'features': white_X.columns, 'coefs': best_lr2.coef_[0]}).sort_values(by='coefs',ascending=False)"
   ]
  },
  {
   "cell_type": "markdown",
   "metadata": {},
   "source": [
    "For white wine, alcohol and residual sugar play huge part in the wine quality, with density and volatile acidity having adverse contributions to the overall quality."
   ]
  },
  {
   "cell_type": "markdown",
   "metadata": {
    "collapsed": true
   },
   "source": [
    "Apply Random Forest Model"
   ]
  },
  {
   "cell_type": "code",
   "execution_count": null,
   "metadata": {
    "collapsed": false
   },
   "outputs": [],
   "source": [
    "from sklearn.ensemble import RandomForestClassifier\n",
    "rf1 = RandomForestClassifier(random_state=1)\n",
    "rf2 = RandomForestClassifier(random_state=1)"
   ]
  },
  {
   "cell_type": "code",
   "execution_count": null,
   "metadata": {
    "collapsed": false
   },
   "outputs": [],
   "source": [
    "rf1.fit(X_train_r, y_train_r)\n",
    "rf2.fit(X_train_w, y_train_w)\n"
   ]
  },
  {
   "cell_type": "code",
   "execution_count": null,
   "metadata": {
    "collapsed": false
   },
   "outputs": [],
   "source": [
    "features = red_X_std.columns\n",
    "feature_importances = rf1.feature_importances_\n",
    "\n",
    "features_red = pd.DataFrame({'Features': features, 'Importance Score': feature_importances})\n",
    "features_red.sort_values('Importance Score', inplace=True, ascending=False)\n",
    "\n",
    "features_red"
   ]
  },
  {
   "cell_type": "markdown",
   "metadata": {},
   "source": [
    "Top features contribute to quality red wine are: alcohol, volatile acidity, sulphates and total sulfur dioxide. "
   ]
  },
  {
   "cell_type": "code",
   "execution_count": null,
   "metadata": {
    "collapsed": false
   },
   "outputs": [],
   "source": [
    "features = white_X_std.columns\n",
    "feature_importances = rf2.feature_importances_\n",
    "\n",
    "features_white = pd.DataFrame({'Features': features, 'Importance Score': feature_importances})\n",
    "features_white.sort_values('Importance Score', inplace=True, ascending=False)\n",
    "\n",
    "features_white"
   ]
  },
  {
   "cell_type": "markdown",
   "metadata": {},
   "source": [
    "Top features contribute to quality white wine are: alcohol, volatile acidity, density, residual sugar and total sulfur dioxide."
   ]
  },
  {
   "cell_type": "code",
   "execution_count": null,
   "metadata": {
    "collapsed": false
   },
   "outputs": [],
   "source": [
    "parameters_rf = {'n_estimators':range(1,10,1), 'min_samples_split':range(2,30),'min_samples_leaf':range(1,20)}\n",
    "\n",
    "clf1 = GridSearchCV(rf1, parameters_rf)\n",
    "clf1.fit(X_train_r, y_train_r)\n"
   ]
  },
  {
   "cell_type": "code",
   "execution_count": null,
   "metadata": {
    "collapsed": false
   },
   "outputs": [],
   "source": [
    "clf2 = GridSearchCV(rf2, parameters_rf)\n",
    "clf2.fit(X_train_w, y_train_w)"
   ]
  },
  {
   "cell_type": "code",
   "execution_count": null,
   "metadata": {
    "collapsed": false
   },
   "outputs": [],
   "source": [
    "clf1.best_params_"
   ]
  },
  {
   "cell_type": "code",
   "execution_count": null,
   "metadata": {
    "collapsed": false
   },
   "outputs": [],
   "source": [
    "clf2.best_params_"
   ]
  },
  {
   "cell_type": "code",
   "execution_count": null,
   "metadata": {
    "collapsed": true
   },
   "outputs": [],
   "source": [
    "best_rf1 = clf1.best_estimator_\n",
    "best_rf2 = clf2.best_estimator_"
   ]
  },
  {
   "cell_type": "code",
   "execution_count": null,
   "metadata": {
    "collapsed": false
   },
   "outputs": [],
   "source": [
    "print classification_report(best_rf1.predict(X_test_r), y_test_r)\n",
    "score1 = cross_val_score(best_rf1, X_train_r, y_test_r, cv=cv1)\n",
    "print('CV score {}, Average score {}'.format(score1, score1.mean()))\n",
    "best_rf1.score(X_test_r, y_test_r)"
   ]
  },
  {
   "cell_type": "code",
   "execution_count": null,
   "metadata": {
    "collapsed": false
   },
   "outputs": [],
   "source": [
    "print classification_report(best_rf2.predict(X_test_w), y_test_w)\n",
    "score2 = cross_val_score(best_rf2, X_train_w, y_test_w, cv=cv2)\n",
    "print('CV score {}, Average score {}'.format(score2, score2.mean()))\n",
    "best_rf2.score(X_test_w, y_test_w)"
   ]
  },
  {
   "cell_type": "code",
   "execution_count": null,
   "metadata": {
    "collapsed": true
   },
   "outputs": [],
   "source": [
    "t1 = %timeit -o best_rf1.fit(X_train_r, y_train_r)"
   ]
  },
  {
   "cell_type": "code",
   "execution_count": null,
   "metadata": {
    "collapsed": true
   },
   "outputs": [],
   "source": [
    "t2 = %timeit -o best_rf2.fit(X_train_w, y_train_w)"
   ]
  },
  {
   "cell_type": "code",
   "execution_count": null,
   "metadata": {
    "collapsed": true
   },
   "outputs": [],
   "source": [
    "print 'Random Forest Learning Curve for Red Wine'\n",
    "\n",
    "draw_learning_curve(best_rf1,X_train_r, y_train_r, cv=cv1);"
   ]
  },
  {
   "cell_type": "code",
   "execution_count": null,
   "metadata": {
    "collapsed": true
   },
   "outputs": [],
   "source": [
    "print 'Random Forest Learning Curve for White Wine'\n",
    "\n",
    "draw_learning_curve(best_rf2,X_train_w, y_train_w, cv=cv2);"
   ]
  },
  {
   "cell_type": "code",
   "execution_count": null,
   "metadata": {
    "collapsed": true
   },
   "outputs": [],
   "source": []
  },
  {
   "cell_type": "markdown",
   "metadata": {},
   "source": [
    "**Unsupervised Learning**"
   ]
  },
  {
   "cell_type": "markdown",
   "metadata": {},
   "source": [
    "Apply k-Mean Clustering"
   ]
  },
  {
   "cell_type": "code",
   "execution_count": null,
   "metadata": {
    "collapsed": false
   },
   "outputs": [],
   "source": [
    "#Add one column to each dataset so they can be identified after the merge.\n",
    "\n",
    "#Type 1 is White Wine; Type 2 is Red Wine.\n",
    "\n",
    "data_white['type'] =1\n",
    "\n",
    "data_red['type'] =0"
   ]
  },
  {
   "cell_type": "code",
   "execution_count": null,
   "metadata": {
    "collapsed": false
   },
   "outputs": [],
   "source": [
    "#Concatenate two original datasets\n",
    "\n",
    "wine = pd.concat([data_white,data_red])\n",
    "\n",
    "#Take a look at the new dataset\n",
    "\n",
    "#wine.drop(['bin_quality'],axis=1)\n",
    "\n",
    "wine.head()"
   ]
  },
  {
   "cell_type": "code",
   "execution_count": null,
   "metadata": {
    "collapsed": false
   },
   "outputs": [],
   "source": [
    "wine.info()"
   ]
  },
  {
   "cell_type": "code",
   "execution_count": null,
   "metadata": {
    "collapsed": false
   },
   "outputs": [],
   "source": [
    "wine.describe()"
   ]
  },
  {
   "cell_type": "code",
   "execution_count": null,
   "metadata": {
    "collapsed": true
   },
   "outputs": [],
   "source": [
    "from sklearn.cluster import KMeans"
   ]
  },
  {
   "cell_type": "code",
   "execution_count": null,
   "metadata": {
    "collapsed": true
   },
   "outputs": [],
   "source": [
    "wine_scale = stdsc.fit_transform(wine)\n",
    "\n",
    "wine_scale = pd.DataFrame(wine_scale)"
   ]
  },
  {
   "cell_type": "code",
   "execution_count": null,
   "metadata": {
    "collapsed": false
   },
   "outputs": [],
   "source": [
    "wine_scale.head()"
   ]
  },
  {
   "cell_type": "code",
   "execution_count": null,
   "metadata": {
    "collapsed": false
   },
   "outputs": [],
   "source": [
    "#plt.figure(figsize=(20,10))\n",
    "#pd.tools.plotting.parallel_coordinates(wine_scale, 'type')"
   ]
  },
  {
   "cell_type": "code",
   "execution_count": null,
   "metadata": {
    "collapsed": false
   },
   "outputs": [],
   "source": [
    "%%time\n",
    "\n",
    "km = KMeans(n_clusters=2, n_init=20)\n",
    "cluster_labels = km.fit_predict(wine_scale)"
   ]
  },
  {
   "cell_type": "code",
   "execution_count": null,
   "metadata": {
    "collapsed": false
   },
   "outputs": [],
   "source": [
    "# The silhouette_score gives the average value for all the samples.\n",
    "# This gives a perspective into the density and separation of the formed\n",
    "# clusters\n",
    "\n",
    "# The best value is 1 and the worst value is -1. Values near 0 indicate overlapping clusters. \n",
    "# Negative values generally indicate that a sample has been assigned to the wrong cluster, \n",
    "# as a different cluster is more similar.\n",
    "from sklearn.metrics import silhouette_score\n",
    "print silhouette_score(wine_scale, cluster_labels)"
   ]
  },
  {
   "cell_type": "code",
   "execution_count": null,
   "metadata": {
    "collapsed": false
   },
   "outputs": [],
   "source": [
    "wine_scale.head()"
   ]
  },
  {
   "cell_type": "code",
   "execution_count": null,
   "metadata": {
    "collapsed": true
   },
   "outputs": [],
   "source": []
  }
 ],
 "metadata": {
  "kernelspec": {
   "display_name": "Python 2",
   "language": "python",
   "name": "python2"
  },
  "language_info": {
   "codemirror_mode": {
    "name": "ipython",
    "version": 2
   },
   "file_extension": ".py",
   "mimetype": "text/x-python",
   "name": "python",
   "nbconvert_exporter": "python",
   "pygments_lexer": "ipython2",
   "version": "2.7.11"
  }
 },
 "nbformat": 4,
 "nbformat_minor": 0
}
